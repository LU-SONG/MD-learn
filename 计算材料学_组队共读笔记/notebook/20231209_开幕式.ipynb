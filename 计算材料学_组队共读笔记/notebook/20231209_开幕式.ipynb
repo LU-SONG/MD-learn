{
 "cells": [
  {
   "cell_type": "markdown",
   "metadata": {},
   "source": [
    "### 宋璐-第0天-开幕式\n",
    "#### 一、组队共读规则\n",
    "1. 教材+配套视频+配套课件+python实战\n",
    "[![课程](images/2023.12%E7%BB%84%E9%98%9F%E5%85%B1%E5%BA%A6%E5%AD%A6%E4%B9%A0%E7%AC%94%E8%AE%B0-image.png)](https://github.com/LU-SONG/MD-learn/blob/main/%E8%AE%A1%E7%AE%97%E6%9D%90%E6%96%99%E5%AD%A6_%E7%BB%84%E9%98%9F%E5%85%B1%E8%AF%BB%E7%AC%94%E8%AE%B0/notebook/images/2023.12%E7%BB%84%E9%98%9F%E5%85%B1%E5%BA%A6%E5%AD%A6%E4%B9%A0%E7%AC%94%E8%AE%B0-image.png)\n",
    "   视频：b站 https://space.bilibili.com/1111135013/channel/collectiondetail?sid=1458375\n",
    "   \n",
    "   bohrium https://bohrium.dp.tech/\n",
    "2. 大作业（至少完成一个，至少选择一个人来汇报）\n",
    "3. 每日打卡\n",
    "[![打卡](images/2023.12%E7%BB%84%E9%98%9F%E5%85%B1%E5%BA%A6%E5%AD%A6%E4%B9%A0%E7%AC%94%E8%AE%B0-242a65d5f4c6dd68a5596205295fde7.png)](https://github.com/LU-SONG/MD-learn/blob/main/%E8%AE%A1%E7%AE%97%E6%9D%90%E6%96%99%E5%AD%A6_%E7%BB%84%E9%98%9F%E5%85%B1%E8%AF%BB%E7%AC%94%E8%AE%B0/notebook/images/2023.12%E7%BB%84%E9%98%9F%E5%85%B1%E5%BA%A6%E5%AD%A6%E4%B9%A0%E7%AC%94%E8%AE%B0-242a65d5f4c6dd68a5596205295fde7.png)\n",
    "4. 三个奖励+一个惩罚\n",
    "   奖励：14天连续打卡、优秀笔记、找出问题\n",
    "   惩罚：总共两次未完成打卡\n",
    "\n",
    "#### 二、上机操作\n",
    "1. bohrium平台登陆，案例广场介绍\n",
    "2. jupyter notebook使用\n",
    "3. 复制`/share`到`/data`\n",
    "4. 镜像加载，资源使用，`c2_m4_cpu`\n",
    "5. 写notebook，模板`姓名-第0天-标题`\n",
    "   组队学习标签，bohrium-notebook推荐镜像"
   ]
  }
 ],
 "metadata": {
  "language_info": {
   "name": "python"
  },
  "orig_nbformat": 4
 },
 "nbformat": 4,
 "nbformat_minor": 2
}
