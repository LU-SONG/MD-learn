{
 "cells": [
  {
   "cell_type": "markdown",
   "metadata": {},
   "source": [
    "## 宋璐-第5天-分子动力学巩固\n",
    "### 课后巩固\n",
    "**Q1**：\n",
    "**试述系综平均与时间平均的区别，为什么分子动力学模拟可以用时间平均来替代系综平均计算宏观量的期望值？**\n",
    "\n",
    "**A1**：\n",
    "系综平均：相同宏观性质的不同系统的状态平均。物理量A的平均值应该等同于在给定的某个时刻，独立、随机地从满足宏观条件的微观态中抽取若干个所对应的统计平均，而其中每一个微观态都可以看作该宏观条件的不同实现。\n",
    "时间平均：同一系统，不同时间的状态平均。当微观态取值足够多时，物理量A趋于真实值。可以使用分子动力学模拟生成的大量微观态样本，来计算物理量A的平均值和方差等统计量。\n",
    "在分子动力学模拟中，系统的微观状态等概率演化，在相空间中可以遍历各个可能的状态。因此，在足够长的模拟时间内，系统将探索整个相空间，类似于系综平均。系综平均涉及多个系统，时间平均仅模拟一个系统在不同时间点上的状态。在实际应用中，进行时间平均更为高效。\n"
   ]
  },
  {
   "cell_type": "markdown",
   "metadata": {},
   "source": [
    "**Q2**：\n",
    "**原子间相互作用力本质是量子力学主导的电子相互作用，为什么我们可以用牛顿运动力学来描述原子的运动力学？**\n",
    "\n",
    "**A2**：\n",
    "当德布罗意波长 << 晶格常数时，通常意味着粒子的动量较大，对应于高温或粒子的高动能。此时牛顿力学通常可以很好地描述粒子的运动，相对论和量子效应对粒子的影响较小。\n",
    "当德布罗意波长 ≈ 或 > 晶格常数时，粒子的波动性显著，量子效应产生影响。在低温下，粒子的动能较小。在这种情况下，波粒二象性变得更加明显，而牛顿力学无法准确描述。"
   ]
  },
  {
   "cell_type": "markdown",
   "metadata": {},
   "source": [
    "**Q3-1**：\n",
    "**分子动力学时间步选取的规则是什么？假设分子动力学模拟的时间步长为10(-15)s，在超算平台上跑完一步分子动力学需要0.01s，试估算在超算上连续运行一个月的分子动力学模拟，所能达到的时间尺度是多少？**\n",
    "\n",
    "**A3-1**：\n",
    "选取规则如下图，动力学模拟受制于最高频率，大多数情况下为C-H键 1E-14 s，一般取其最高频率的1/10，1E-15 s(1 fs)\n",
    "![时间步长](https://github.com/LU-SONG/MD-learn/blob/e1a795963facbb639f0e1d7ee8c69ee1ef6ee3ab/%E8%AE%A1%E7%AE%97%E6%9D%90%E6%96%99%E5%AD%A6_%E7%BB%84%E9%98%9F%E5%85%B1%E8%AF%BB%E7%AC%94%E8%AE%B0/notebook/images/markdown-image.png?raw=true)"
   ]
  },
  {
   "cell_type": "code",
   "execution_count": 21,
   "metadata": {},
   "outputs": [
    {
     "name": "stdout",
     "output_type": "stream",
     "text": [
      "总时间尺度为：2.59e-07 秒\n"
     ]
    }
   ],
   "source": [
    "# 时间步长为t0(fs)，超算计算效率为e(秒每步) ，超算运算时间为t1(天)，求解动力学模拟的时间 T(s)\n",
    "def get_MD_time(t0, e, t1):\n",
    "    # 1.总运算时间 t2 s\n",
    "    t2 = 60 * 60 * 24 * t1\n",
    "    # 2.计算总时间步数 N 步\n",
    "    N = int(t2 / e)\n",
    "    # 3.计算总时间尺度 T fs\n",
    "    T = N * t0\n",
    "    # 4.输出总时间步数\n",
    "    print(\"总时间尺度为：{:.2e} 秒\".format(T))\n",
    "\n",
    "# 运行程序，时间步长为1 fs，超算计算效率为0.01 秒每步 ，超算运算时间为30 天，求解动力学模拟的时间 T(s)\n",
    "get_MD_time(t0=1e-15, e=0.01, t1=30)\n"
   ]
  },
  {
   "cell_type": "markdown",
   "metadata": {},
   "source": [
    "**Q3-2**：\n",
    "**假设原子间平均间距为2 Å，估算1000万个原子构成纳米颗粒的粒径尺寸，加深理解分子动力学方法在模拟时间和空间尺寸上的限制。**\n",
    "\n",
    "**A3-2**：\n",
    "受到组队学习群内同学讨论的灵感，可以用体积的对比来模拟粒径尺寸，可以用如下公式计算："
   ]
  },
  {
   "cell_type": "code",
   "execution_count": 20,
   "metadata": {},
   "outputs": [
    {
     "name": "stdout",
     "output_type": "stream",
     "text": [
      "纳米颗粒的粒径尺寸为：99.48 纳米\n"
     ]
    }
   ],
   "source": [
    "import numpy as np\n",
    "# 计算纳米颗粒的粒径(直径)\n",
    "def get_particle_size(num, r):\n",
    "    # 定义堆积系数 A = 0.65 (根据常见堆积方式密度 0.6-0.7选择)\n",
    "    A = 0.65\n",
    "    # 单个原子的体积\n",
    "    V_atoms = 4/3 * np.pi * r**3\n",
    "    # 估算纳米颗粒的体积\n",
    "    V_particle = num * V_atoms / A\n",
    "    # 得到纳米颗粒的粒径尺寸(直径, 纳米)\n",
    "    R = np.cbrt(V_particle / (4/3 * np.pi))/1e-9\n",
    "    print(\"纳米颗粒的粒径尺寸为：{:.2f} 纳米\".format(2*R))\n",
    "\n",
    "# 计算纳米颗粒的粒径尺寸(直径, 纳米)，1000万个原子，平均间距为2 Å\n",
    "get_particle_size(num=1e7, r=2e-10)\n"
   ]
  }
 ],
 "metadata": {
  "kernelspec": {
   "display_name": "Python 3",
   "language": "python",
   "name": "python3"
  },
  "language_info": {
   "codemirror_mode": {
    "name": "ipython",
    "version": 3
   },
   "file_extension": ".py",
   "mimetype": "text/x-python",
   "name": "python",
   "nbconvert_exporter": "python",
   "pygments_lexer": "ipython3",
   "version": "3.11.2"
  },
  "orig_nbformat": 4
 },
 "nbformat": 4,
 "nbformat_minor": 2
}
